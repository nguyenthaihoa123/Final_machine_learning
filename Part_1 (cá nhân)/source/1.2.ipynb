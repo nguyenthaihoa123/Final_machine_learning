{
 "cells": [
  {
   "cell_type": "code",
   "execution_count": 1,
   "id": "40fd964f",
   "metadata": {},
   "outputs": [],
   "source": [
    "from sklearn.datasets import load_iris\n",
    "from sklearn.linear_model import LinearRegression\n",
    "from sklearn.model_selection import train_test_split\n",
    "from sklearn.metrics import mean_squared_error\n",
    "import numpy as np\n",
    "\n",
    "# Load bộ dữ liệu Iris\n",
    "iris = load_iris()\n",
    "X, y = iris.data, iris.target"
   ]
  },
  {
   "cell_type": "code",
   "execution_count": 2,
   "id": "aeaabc90",
   "metadata": {},
   "outputs": [],
   "source": [
    "class ContinualLearningModel:\n",
    "    def __init__(self):\n",
    "        self.model = LinearRegression()\n",
    "        self.previous_data = None\n",
    "\n",
    "    def train(self, X_train, y_train):\n",
    "        # Áp dụng continual learning\n",
    "        if self.previous_data is not None:\n",
    "            X_train = np.concatenate([self.previous_data['X'], X_train])\n",
    "            y_train = np.concatenate([self.previous_data['y'], y_train])\n",
    "\n",
    "        self.model.fit(X_train, y_train)\n",
    "\n",
    "    def test_production(self, X_test, y_test):\n",
    "        # Kiểm thử sản xuất\n",
    "        y_pred = self.model.predict(X_test)\n",
    "        mse = mean_squared_error(y_test, y_pred)\n",
    "        print(f\"Mean Squared Error on production data: {mse}\")\n",
    "\n",
    "    def update_previous_data(self, X, y):\n",
    "        # Cập nhật dữ liệu trước đó sau mỗi lần huấn luyện\n",
    "        self.previous_data = {'X': X, 'y': y}\n"
   ]
  },
  {
   "cell_type": "code",
   "execution_count": 3,
   "id": "3ba8b942",
   "metadata": {},
   "outputs": [],
   "source": [
    "# Chia dữ liệu thành tập huấn luyện và tập kiểm thử\n",
    "X_train_1, X_test_1, y_train_1, y_test_1 = train_test_split(X, y, test_size=0.2, random_state=42)\n"
   ]
  },
  {
   "cell_type": "code",
   "execution_count": 4,
   "id": "0c8bb753",
   "metadata": {},
   "outputs": [
    {
     "name": "stdout",
     "output_type": "stream",
     "text": [
      "Mean Squared Error on production data: 0.03711379440797686\n"
     ]
    }
   ],
   "source": [
    "# Tạo và huấn luyện mô hình\n",
    "model = ContinualLearningModel()\n",
    "model.train(X_train_1, y_train_1)\n",
    "model.test_production(X_test_1, y_test_1)\n"
   ]
  },
  {
   "cell_type": "code",
   "execution_count": 5,
   "id": "ab00ae13",
   "metadata": {},
   "outputs": [
    {
     "name": "stdout",
     "output_type": "stream",
     "text": [
      "Mean Squared Error on production data: 0.04789760484101265\n"
     ]
    }
   ],
   "source": [
    "# Cập nhật dữ liệu và tiếp tục huấn luyện\n",
    "X_train_2, X_test_2, y_train_2, y_test_2 = train_test_split(X, y, test_size=0.2, random_state=123)\n",
    "model.update_previous_data(X_train_1, y_train_1)\n",
    "model.train(X_train_2, y_train_2)\n",
    "model.test_production(X_test_2, y_test_2)"
   ]
  },
  {
   "cell_type": "code",
   "execution_count": null,
   "id": "9cb43fd2",
   "metadata": {},
   "outputs": [],
   "source": []
  }
 ],
 "metadata": {
  "kernelspec": {
   "display_name": "Python 3 (ipykernel)",
   "language": "python",
   "name": "python3"
  },
  "language_info": {
   "codemirror_mode": {
    "name": "ipython",
    "version": 3
   },
   "file_extension": ".py",
   "mimetype": "text/x-python",
   "name": "python",
   "nbconvert_exporter": "python",
   "pygments_lexer": "ipython3",
   "version": "3.11.4"
  }
 },
 "nbformat": 4,
 "nbformat_minor": 5
}
